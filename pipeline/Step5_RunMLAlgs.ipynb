{
 "cells": [
  {
   "cell_type": "markdown",
   "metadata": {},
   "source": [
    "# Run Machine Learning Pipeline\n",
    "----"
   ]
  },
  {
   "cell_type": "markdown",
   "metadata": {},
   "source": [
    "### Import Packages\n",
    "The machine learning code has been packaged into a single module called <code>ML_Pipeline</code> saved in **ml_functions**. "
   ]
  },
  {
   "cell_type": "markdown",
   "metadata": {},
   "source": [
    "<div class=\"alert alert-block alert-info\">\n",
    "<b>Note:</b> Be sure to specify path to <code>ml_functions</code> in line 3.\n",
    "</div>"
   ]
  },
  {
   "cell_type": "code",
   "execution_count": 1,
   "metadata": {},
   "outputs": [
    {
     "name": "stdout",
     "output_type": "stream",
     "text": [
      "The autoreload extension is already loaded. To reload it, use:\n",
      "  %reload_ext autoreload\n"
     ]
    }
   ],
   "source": [
    "from sklearn.model_selection import train_test_split, cross_val_score, cross_val_predict\n",
    "import sys\n",
    "sys.path.insert(1,'C:/ArrhythmiaPredictionProject/ml_functions/') # include path to ml_functions \n",
    "import ML_Pipeline as ml\n",
    "import warnings \n",
    "warnings.simplefilter('ignore')\n",
    "\n",
    "%reload_ext autoreload\n",
    "%load_ext autoreload\n",
    "%autoreload 2"
   ]
  },
  {
   "cell_type": "markdown",
   "metadata": {},
   "source": [
    "### Specify Input Requirements\n",
    "<code>ML_Pipeline</code> creates an object that requires the following inputs as defined below:\n",
    "- data filename\n",
    "- label\n",
    "- feature set \n",
    "- seed (optional)\n",
    "\n",
    "The seed is optional, but the default is 134556 which was used for this project."
   ]
  },
  {
   "cell_type": "code",
   "execution_count": 2,
   "metadata": {},
   "outputs": [],
   "source": [
    "# Input Data \n",
    "filename = 'C:/ArrhythmiaPredictionProject/Manuscript_Data/Population_Feature_Outputs.csv' # file with data \n",
    "features = ['Vrest', 'Upstroke', 'Vpeak', 'APD20', 'APD40', 'APD50', 'APD90',\n",
    "       'TriAP','DCai', 'Capeak', 'CaD50', 'CaD90', 'TriCa', 'dCa']\n",
    "label = 'IKrBlock_Label'\n",
    "seed = 134556"
   ]
  },
  {
   "cell_type": "markdown",
   "metadata": {},
   "source": [
    "### Specify Data Output Requirements\n",
    "<code>ML_Pipeline</code> has the option to save the results of each classifier to an Excel file if <code>flag_save</code> is set to <code>True</code>. "
   ]
  },
  {
   "cell_type": "code",
   "execution_count": 3,
   "metadata": {},
   "outputs": [],
   "source": [
    "# Output Data \n",
    "flag_save = False \n",
    "output_name = 'Test' # filename "
   ]
  },
  {
   "cell_type": "markdown",
   "metadata": {},
   "source": [
    "### Create ML Object based on set input requirements"
   ]
  },
  {
   "cell_type": "code",
   "execution_count": 4,
   "metadata": {},
   "outputs": [],
   "source": [
    "# Create a \"ML task\" object \n",
    "ML_Task = ml.ML_Pipeline(filename,label,features,seed)"
   ]
  },
  {
   "cell_type": "markdown",
   "metadata": {},
   "source": [
    "### Convert data from the .csv to a pandas dataframe. "
   ]
  },
  {
   "cell_type": "code",
   "execution_count": 8,
   "metadata": {},
   "outputs": [
    {
     "data": {
      "text/html": [
       "<div>\n",
       "<style scoped>\n",
       "    .dataframe tbody tr th:only-of-type {\n",
       "        vertical-align: middle;\n",
       "    }\n",
       "\n",
       "    .dataframe tbody tr th {\n",
       "        vertical-align: top;\n",
       "    }\n",
       "\n",
       "    .dataframe thead th {\n",
       "        text-align: right;\n",
       "    }\n",
       "</style>\n",
       "<table border=\"1\" class=\"dataframe\">\n",
       "  <thead>\n",
       "    <tr style=\"text-align: right;\">\n",
       "      <th></th>\n",
       "      <th>Vrest</th>\n",
       "      <th>Upstroke</th>\n",
       "      <th>Vpeak</th>\n",
       "      <th>APD20</th>\n",
       "      <th>APD40</th>\n",
       "      <th>APD50</th>\n",
       "      <th>APD90</th>\n",
       "      <th>TriAP</th>\n",
       "      <th>DCai</th>\n",
       "      <th>Capeak</th>\n",
       "      <th>...</th>\n",
       "      <th>CaD90_HighCao</th>\n",
       "      <th>TriCa_HighCao</th>\n",
       "      <th>dCa_HighCao</th>\n",
       "      <th>Threshold</th>\n",
       "      <th>MaxSlope</th>\n",
       "      <th>CurveFit</th>\n",
       "      <th>NormMinMax</th>\n",
       "      <th>IKrBlock_Label</th>\n",
       "      <th>ICaLIncrease_Label</th>\n",
       "      <th>Inject_Label</th>\n",
       "    </tr>\n",
       "  </thead>\n",
       "  <tbody>\n",
       "    <tr>\n",
       "      <td>0</td>\n",
       "      <td>-87.908</td>\n",
       "      <td>62.981</td>\n",
       "      <td>38.188</td>\n",
       "      <td>114.59</td>\n",
       "      <td>162.79</td>\n",
       "      <td>173.78</td>\n",
       "      <td>209.39</td>\n",
       "      <td>35.602</td>\n",
       "      <td>0.000224</td>\n",
       "      <td>0.000317</td>\n",
       "      <td>...</td>\n",
       "      <td>501.716312</td>\n",
       "      <td>302.314174</td>\n",
       "      <td>0.000096</td>\n",
       "      <td>33.442500</td>\n",
       "      <td>2.10</td>\n",
       "      <td>-2.990000e-07</td>\n",
       "      <td>0.326</td>\n",
       "      <td>0</td>\n",
       "      <td>1</td>\n",
       "      <td>0</td>\n",
       "    </tr>\n",
       "    <tr>\n",
       "      <td>1</td>\n",
       "      <td>-88.100</td>\n",
       "      <td>115.510</td>\n",
       "      <td>38.150</td>\n",
       "      <td>111.77</td>\n",
       "      <td>163.86</td>\n",
       "      <td>182.39</td>\n",
       "      <td>246.29</td>\n",
       "      <td>63.901</td>\n",
       "      <td>0.000506</td>\n",
       "      <td>0.000547</td>\n",
       "      <td>...</td>\n",
       "      <td>298.714962</td>\n",
       "      <td>200.657809</td>\n",
       "      <td>0.000062</td>\n",
       "      <td>28.640500</td>\n",
       "      <td>1.26</td>\n",
       "      <td>-2.520000e-07</td>\n",
       "      <td>0.277</td>\n",
       "      <td>1</td>\n",
       "      <td>1</td>\n",
       "      <td>1</td>\n",
       "    </tr>\n",
       "    <tr>\n",
       "      <td>2</td>\n",
       "      <td>-88.084</td>\n",
       "      <td>144.090</td>\n",
       "      <td>40.885</td>\n",
       "      <td>146.75</td>\n",
       "      <td>219.42</td>\n",
       "      <td>239.23</td>\n",
       "      <td>303.08</td>\n",
       "      <td>63.854</td>\n",
       "      <td>0.000321</td>\n",
       "      <td>0.000398</td>\n",
       "      <td>...</td>\n",
       "      <td>428.460444</td>\n",
       "      <td>272.328933</td>\n",
       "      <td>0.000088</td>\n",
       "      <td>31.513125</td>\n",
       "      <td>2.05</td>\n",
       "      <td>-3.940000e-07</td>\n",
       "      <td>0.272</td>\n",
       "      <td>1</td>\n",
       "      <td>1</td>\n",
       "      <td>1</td>\n",
       "    </tr>\n",
       "    <tr>\n",
       "      <td>3</td>\n",
       "      <td>-88.045</td>\n",
       "      <td>94.840</td>\n",
       "      <td>37.837</td>\n",
       "      <td>127.34</td>\n",
       "      <td>201.69</td>\n",
       "      <td>219.06</td>\n",
       "      <td>276.38</td>\n",
       "      <td>57.324</td>\n",
       "      <td>0.000240</td>\n",
       "      <td>0.000318</td>\n",
       "      <td>...</td>\n",
       "      <td>445.118633</td>\n",
       "      <td>272.452332</td>\n",
       "      <td>0.000082</td>\n",
       "      <td>30.698500</td>\n",
       "      <td>1.76</td>\n",
       "      <td>-3.320000e-07</td>\n",
       "      <td>0.275</td>\n",
       "      <td>1</td>\n",
       "      <td>1</td>\n",
       "      <td>0</td>\n",
       "    </tr>\n",
       "    <tr>\n",
       "      <td>4</td>\n",
       "      <td>-87.963</td>\n",
       "      <td>104.730</td>\n",
       "      <td>31.902</td>\n",
       "      <td>163.96</td>\n",
       "      <td>258.12</td>\n",
       "      <td>287.74</td>\n",
       "      <td>344.58</td>\n",
       "      <td>56.842</td>\n",
       "      <td>0.000408</td>\n",
       "      <td>0.000477</td>\n",
       "      <td>...</td>\n",
       "      <td>434.446389</td>\n",
       "      <td>297.796318</td>\n",
       "      <td>0.000080</td>\n",
       "      <td>29.841000</td>\n",
       "      <td>2.25</td>\n",
       "      <td>-4.380000e-07</td>\n",
       "      <td>0.236</td>\n",
       "      <td>1</td>\n",
       "      <td>1</td>\n",
       "      <td>1</td>\n",
       "    </tr>\n",
       "  </tbody>\n",
       "</table>\n",
       "<p>5 rows × 77 columns</p>\n",
       "</div>"
      ],
      "text/plain": [
       "    Vrest  Upstroke   Vpeak   APD20   APD40   APD50   APD90   TriAP      DCai  \\\n",
       "0 -87.908    62.981  38.188  114.59  162.79  173.78  209.39  35.602  0.000224   \n",
       "1 -88.100   115.510  38.150  111.77  163.86  182.39  246.29  63.901  0.000506   \n",
       "2 -88.084   144.090  40.885  146.75  219.42  239.23  303.08  63.854  0.000321   \n",
       "3 -88.045    94.840  37.837  127.34  201.69  219.06  276.38  57.324  0.000240   \n",
       "4 -87.963   104.730  31.902  163.96  258.12  287.74  344.58  56.842  0.000408   \n",
       "\n",
       "     Capeak  ...  CaD90_HighCao  TriCa_HighCao  dCa_HighCao  Threshold  \\\n",
       "0  0.000317  ...     501.716312     302.314174     0.000096  33.442500   \n",
       "1  0.000547  ...     298.714962     200.657809     0.000062  28.640500   \n",
       "2  0.000398  ...     428.460444     272.328933     0.000088  31.513125   \n",
       "3  0.000318  ...     445.118633     272.452332     0.000082  30.698500   \n",
       "4  0.000477  ...     434.446389     297.796318     0.000080  29.841000   \n",
       "\n",
       "   MaxSlope      CurveFit  NormMinMax  IKrBlock_Label  ICaLIncrease_Label  \\\n",
       "0      2.10 -2.990000e-07       0.326               0                   1   \n",
       "1      1.26 -2.520000e-07       0.277               1                   1   \n",
       "2      2.05 -3.940000e-07       0.272               1                   1   \n",
       "3      1.76 -3.320000e-07       0.275               1                   1   \n",
       "4      2.25 -4.380000e-07       0.236               1                   1   \n",
       "\n",
       "   Inject_Label  \n",
       "0             0  \n",
       "1             1  \n",
       "2             1  \n",
       "3             0  \n",
       "4             1  \n",
       "\n",
       "[5 rows x 77 columns]"
      ]
     },
     "execution_count": 8,
     "metadata": {},
     "output_type": "execute_result"
    }
   ],
   "source": [
    "df = ML_Task.convert_df()\n",
    "df.head()"
   ]
  },
  {
   "cell_type": "markdown",
   "metadata": {},
   "source": [
    "### Split the data into a training and testing set. (We used a 90-10 split)"
   ]
  },
  {
   "cell_type": "code",
   "execution_count": 9,
   "metadata": {},
   "outputs": [
    {
     "name": "stdout",
     "output_type": "stream",
     "text": [
      "      Vrest  Upstroke   Vpeak    APD20   APD40   APD50   APD90   TriAP  \\\n",
      "21  -88.054   167.250  39.068  128.580  184.03  196.58  237.04  40.466   \n",
      "319 -87.921   190.620  31.453  125.020  150.26  160.30  199.85  39.548   \n",
      "724 -88.028   271.590  41.874   90.029  157.01  175.74  242.93  67.186   \n",
      "939 -87.881   203.390  37.301  187.580  263.61  283.38  341.11  57.730   \n",
      "880 -87.694    71.313  38.365  180.790  258.39  282.18  368.85  86.669   \n",
      "\n",
      "         DCai    Capeak   CaD50   CaD90   TriCa       dCa  \n",
      "21   0.000299  0.000403  203.35  495.39  292.04  0.000106  \n",
      "319  0.000452  0.000534  176.30  456.08  279.78  0.000084  \n",
      "724  0.000310  0.000385  196.62  495.76  299.14  0.000077  \n",
      "939  0.000408  0.000502  251.36  586.47  335.10  0.000099  \n",
      "880  0.000399  0.000512  258.39  617.56  359.17  0.000118  \n"
     ]
    }
   ],
   "source": [
    "ML_Task.train_test_data = train_test_split(df[features], df[label], random_state = seed, test_size = 0.10) \n",
    "print(ML_Task.train_test_data[0].head()) # training data\n",
    "# print(ML_Task.train_test_data[1].head()) # testing data\n",
    "# print(ML_Task.train_test_data[2].head()) # training y labels\n",
    "# print(ML_Task.train_test_data[3].head()) # testing y labels"
   ]
  },
  {
   "cell_type": "markdown",
   "metadata": {},
   "source": [
    "### Tune and evaluate 8 machine learning classifiers  \n",
    "We first use the 90% training data to tune the parameters of each algorithm using the <code>GridSearchCV</code> function in <code>sklearn</code>. Then we used the tuned model to evaluate the performance on the 10% unseen testing data. Data is normalized using <code>MinMaxScaler</code> for the artifical neural network (ANN) and <code>StandardScaler</code> for the remaining."
   ]
  },
  {
   "cell_type": "code",
   "execution_count": 10,
   "metadata": {},
   "outputs": [
    {
     "name": "stdout",
     "output_type": "stream",
     "text": [
      "------------------------------------------\n",
      "LR Best Params: \n",
      "{'C': 100}\n",
      "0.7944444444444445\n",
      "------------------------------------------\n",
      "SVM Best Params: \n",
      "{'C': 50, 'gamma': 0.01, 'kernel': 'rbf'}\n",
      "0.7300000000000001\n",
      "------------------------------------------\n",
      "KNN Best Params: \n",
      "{'n_neighbors': 19}\n",
      "0.5460565476190476\n",
      "------------------------------------------\n",
      "Random forest Best Params:\n",
      "{'bootstrap': True, 'criterion': 'entropy', 'max_depth': 100, 'max_features': 3, 'min_samples_leaf': 3, 'min_samples_split': 8, 'n_estimators': 200}\n",
      "0.668204365079365\n",
      "------------------------------------------\n",
      "Gradient Boosting Best Params:\n",
      "{'learning_rate': 0.5, 'max_depth': 200, 'max_features': 3, 'min_samples_leaf': 3, 'min_samples_split': 8, 'n_estimators': 200}\n",
      "0.6288888888888888\n",
      "------------------------------------------\n",
      "XGBoost Best Params: \n",
      "{'gamma': 0.1, 'learning_rate': 0.1, 'max_depth': 100, 'min_child_weight': 8, 'n_estimators': 100, 'subsample': 0.8}\n",
      "0.6622222222222222\n",
      "------------------------------------------\n",
      "ANN Best Params: \n",
      "{'activation': 'tanh', 'hidden_layer_sizes': (32, 32, 64), 'learning_rate_init': 0.001, 'solver': 'lbfgs'}\n",
      "0.7277777777777779\n"
     ]
    }
   ],
   "source": [
    "# run the 8 machine learning classifiers  \n",
    "LR = ML_Task.run_LR()\n",
    "SVM = ML_Task.run_SVM()\n",
    "KNN = ML_Task.run_KNN()\n",
    "RF = ML_Task.run_RF()\n",
    "NB = ML_Task.run_NB()\n",
    "GB = ML_Task.run_GB()\n",
    "XGB = ML_Task.run_XGB()\n",
    "ANN = ML_Task.run_ANN()"
   ]
  },
  {
   "cell_type": "markdown",
   "metadata": {},
   "source": [
    "### Combine data from each classifier into a single table"
   ]
  },
  {
   "cell_type": "code",
   "execution_count": 11,
   "metadata": {},
   "outputs": [
    {
     "data": {
      "text/html": [
       "<div>\n",
       "<style scoped>\n",
       "    .dataframe tbody tr th:only-of-type {\n",
       "        vertical-align: middle;\n",
       "    }\n",
       "\n",
       "    .dataframe tbody tr th {\n",
       "        vertical-align: top;\n",
       "    }\n",
       "\n",
       "    .dataframe thead th {\n",
       "        text-align: right;\n",
       "    }\n",
       "</style>\n",
       "<table border=\"1\" class=\"dataframe\">\n",
       "  <thead>\n",
       "    <tr style=\"text-align: right;\">\n",
       "      <th></th>\n",
       "      <th>Accuracy</th>\n",
       "      <th>Threshold</th>\n",
       "      <th>Sensitivity</th>\n",
       "      <th>Specificity</th>\n",
       "      <th>NPV</th>\n",
       "      <th>PPV</th>\n",
       "      <th>AUC</th>\n",
       "    </tr>\n",
       "  </thead>\n",
       "  <tbody>\n",
       "    <tr>\n",
       "      <td>LR</td>\n",
       "      <td>0.71</td>\n",
       "      <td>0.515326</td>\n",
       "      <td>0.649123</td>\n",
       "      <td>0.790698</td>\n",
       "      <td>0.629630</td>\n",
       "      <td>0.804348</td>\n",
       "      <td>0.759282</td>\n",
       "    </tr>\n",
       "    <tr>\n",
       "      <td>SVM</td>\n",
       "      <td>0.71</td>\n",
       "      <td>0.511086</td>\n",
       "      <td>0.631579</td>\n",
       "      <td>0.813953</td>\n",
       "      <td>0.625000</td>\n",
       "      <td>0.818182</td>\n",
       "      <td>0.764586</td>\n",
       "    </tr>\n",
       "    <tr>\n",
       "      <td>NB</td>\n",
       "      <td>0.56</td>\n",
       "      <td>0.681326</td>\n",
       "      <td>0.368421</td>\n",
       "      <td>0.813953</td>\n",
       "      <td>0.492958</td>\n",
       "      <td>0.724138</td>\n",
       "      <td>0.586291</td>\n",
       "    </tr>\n",
       "    <tr>\n",
       "      <td>XGB</td>\n",
       "      <td>0.68</td>\n",
       "      <td>0.545012</td>\n",
       "      <td>0.649123</td>\n",
       "      <td>0.720930</td>\n",
       "      <td>0.607843</td>\n",
       "      <td>0.755102</td>\n",
       "      <td>0.704610</td>\n",
       "    </tr>\n",
       "    <tr>\n",
       "      <td>GB</td>\n",
       "      <td>0.70</td>\n",
       "      <td>0.100666</td>\n",
       "      <td>0.807018</td>\n",
       "      <td>0.558140</td>\n",
       "      <td>0.685714</td>\n",
       "      <td>0.707692</td>\n",
       "      <td>0.698898</td>\n",
       "    </tr>\n",
       "    <tr>\n",
       "      <td>RF</td>\n",
       "      <td>0.67</td>\n",
       "      <td>0.517771</td>\n",
       "      <td>0.578947</td>\n",
       "      <td>0.790698</td>\n",
       "      <td>0.586207</td>\n",
       "      <td>0.785714</td>\n",
       "      <td>0.677275</td>\n",
       "    </tr>\n",
       "    <tr>\n",
       "      <td>KNN</td>\n",
       "      <td>0.63</td>\n",
       "      <td>0.473684</td>\n",
       "      <td>0.684211</td>\n",
       "      <td>0.558140</td>\n",
       "      <td>0.571429</td>\n",
       "      <td>0.672414</td>\n",
       "      <td>0.636883</td>\n",
       "    </tr>\n",
       "    <tr>\n",
       "      <td>ANN</td>\n",
       "      <td>0.69</td>\n",
       "      <td>0.897536</td>\n",
       "      <td>0.736842</td>\n",
       "      <td>0.627907</td>\n",
       "      <td>0.642857</td>\n",
       "      <td>0.724138</td>\n",
       "      <td>0.668707</td>\n",
       "    </tr>\n",
       "  </tbody>\n",
       "</table>\n",
       "</div>"
      ],
      "text/plain": [
       "     Accuracy  Threshold  Sensitivity  Specificity       NPV       PPV  \\\n",
       "LR       0.71   0.515326     0.649123     0.790698  0.629630  0.804348   \n",
       "SVM      0.71   0.511086     0.631579     0.813953  0.625000  0.818182   \n",
       "NB       0.56   0.681326     0.368421     0.813953  0.492958  0.724138   \n",
       "XGB      0.68   0.545012     0.649123     0.720930  0.607843  0.755102   \n",
       "GB       0.70   0.100666     0.807018     0.558140  0.685714  0.707692   \n",
       "RF       0.67   0.517771     0.578947     0.790698  0.586207  0.785714   \n",
       "KNN      0.63   0.473684     0.684211     0.558140  0.571429  0.672414   \n",
       "ANN      0.69   0.897536     0.736842     0.627907  0.642857  0.724138   \n",
       "\n",
       "          AUC  \n",
       "LR   0.759282  \n",
       "SVM  0.764586  \n",
       "NB   0.586291  \n",
       "XGB  0.704610  \n",
       "GB   0.698898  \n",
       "RF   0.677275  \n",
       "KNN  0.636883  \n",
       "ANN  0.668707  "
      ]
     },
     "execution_count": 11,
     "metadata": {},
     "output_type": "execute_result"
    }
   ],
   "source": [
    "# extract the results of each calssifier and output results as a table\n",
    "classifiers = [LR[1], SVM[1], NB, XGB[1], GB[1], RF[1], KNN[1], ANN[1]]\n",
    "keys = ['LR','SVM','NB','XGB','GB','RF','KNN','ANN']\n",
    "combined_ML_data = ML_Task.create_table(classifiers,keys)\n",
    "\n",
    "result_table = combined_ML_data[0]\n",
    "metrics = combined_ML_data[1]\n",
    "rocs = combined_ML_data[2]\n",
    "prob = combined_ML_data[3]\n",
    "pred = combined_ML_data[4]\n",
    "conf_matrix = combined_ML_data[5]\n",
    "result_table"
   ]
  },
  {
   "cell_type": "markdown",
   "metadata": {},
   "source": [
    "### Plot results and highlight the best classifier for this particular task"
   ]
  },
  {
   "cell_type": "code",
   "execution_count": null,
   "metadata": {},
   "outputs": [],
   "source": [
    "ML_Task.plotting(rocs,result_table)"
   ]
  },
  {
   "cell_type": "markdown",
   "metadata": {},
   "source": [
    "### Save results to an Excel File"
   ]
  },
  {
   "cell_type": "code",
   "execution_count": null,
   "metadata": {},
   "outputs": [],
   "source": [
    "# save the results \n",
    "ML_Task.flag_save = flag_save # the default is set to True\n",
    "filename = output_name + '_' + label\n",
    "ML_Task.save_data(filename,combined_ML_data,keys)"
   ]
  }
 ],
 "metadata": {
  "kernelspec": {
   "display_name": "Python 3",
   "language": "python",
   "name": "python3"
  },
  "language_info": {
   "codemirror_mode": {
    "name": "ipython",
    "version": 3
   },
   "file_extension": ".py",
   "mimetype": "text/x-python",
   "name": "python",
   "nbconvert_exporter": "python",
   "pygments_lexer": "ipython3",
   "version": "3.7.4"
  }
 },
 "nbformat": 4,
 "nbformat_minor": 2
}
