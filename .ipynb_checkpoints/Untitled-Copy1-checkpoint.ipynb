{
 "cells": [
  {
   "cell_type": "code",
   "execution_count": 1,
   "metadata": {},
   "outputs": [
    {
     "name": "stdout",
     "output_type": "stream",
     "text": [
      "------------------------------------------\n",
      "Running IKrBlock_Label\n",
      "------------------------------------------\n",
      "LR Best Params: \n",
      "{'C': 100}\n",
      "0.7944444444444445\n",
      "------------------------------------------\n",
      "SVM Best Params: \n",
      "{'C': 50, 'gamma': 0.01, 'kernel': 'rbf'}\n",
      "0.7300000000000001\n",
      "------------------------------------------\n",
      "KNN Best Params: \n",
      "{'n_neighbors': 19}\n",
      "0.5460565476190476\n",
      "------------------------------------------\n",
      "Random forest Best Params:\n",
      "{'bootstrap': True, 'criterion': 'entropy', 'max_depth': 100, 'max_features': 3, 'min_samples_leaf': 3, 'min_samples_split': 8, 'n_estimators': 200}\n",
      "0.668204365079365\n",
      "------------------------------------------\n",
      "Gradient Boosting Best Params:\n",
      "{'learning_rate': 0.5, 'max_depth': 200, 'max_features': 3, 'min_samples_leaf': 3, 'min_samples_split': 8, 'n_estimators': 100}\n",
      "0.6266666666666667\n",
      "------------------------------------------\n",
      "XGBoost Best Params: \n",
      "{'gamma': 0.1, 'learning_rate': 0.1, 'max_depth': 100, 'min_child_weight': 8, 'n_estimators': 100, 'subsample': 0.8}\n",
      "0.6622222222222222\n",
      "------------------------------------------\n",
      "ANN Best Params: \n",
      "{'activation': 'tanh', 'hidden_layer_sizes': (32, 32, 64), 'learning_rate_init': 0.001, 'solver': 'lbfgs'}\n",
      "0.7277777777777779\n"
     ]
    },
    {
     "ename": "AttributeError",
     "evalue": "module 'ML_Pipeline' has no attribute 'plotting'",
     "output_type": "error",
     "traceback": [
      "\u001b[1;31m---------------------------------------------------------------------------\u001b[0m",
      "\u001b[1;31mAttributeError\u001b[0m                            Traceback (most recent call last)",
      "\u001b[1;32m<ipython-input-1-b566e4b80c34>\u001b[0m in \u001b[0;36m<module>\u001b[1;34m\u001b[0m\n\u001b[0;32m     46\u001b[0m     \u001b[0mresult_table\u001b[0m\u001b[1;33m\u001b[0m\u001b[1;33m\u001b[0m\u001b[0m\n\u001b[0;32m     47\u001b[0m \u001b[1;33m\u001b[0m\u001b[0m\n\u001b[1;32m---> 48\u001b[1;33m     \u001b[0mml\u001b[0m\u001b[1;33m.\u001b[0m\u001b[0mplotting\u001b[0m\u001b[1;33m(\u001b[0m\u001b[0mrocs\u001b[0m\u001b[1;33m,\u001b[0m\u001b[0mresult_table\u001b[0m\u001b[1;33m)\u001b[0m\u001b[1;33m\u001b[0m\u001b[1;33m\u001b[0m\u001b[0m\n\u001b[0m",
      "\u001b[1;31mAttributeError\u001b[0m: module 'ML_Pipeline' has no attribute 'plotting'"
     ]
    }
   ],
   "source": [
    "from sklearn.model_selection import train_test_split, cross_val_score, cross_val_predict\n",
    "import sys\n",
    "sys.path.insert(1,'C:/ArrhythmiaPredictionProject/ml_functions/') # include path to ml_functions \n",
    "import ML_Pipeline as ml\n",
    "import warnings \n",
    "warnings.simplefilter('ignore')\n",
    "\n",
    "%load_ext autoreload\n",
    "%autoreload 2\n",
    "\n",
    "# Input Data \n",
    "filename = 'Manuscript_Data/Population_Feature_Outputs.csv' # file with data \n",
    "features = ['Vrest', 'Upstroke', 'Vpeak', 'APD20', 'APD40', 'APD50', 'APD90',\n",
    "       'TriAP','DCai', 'Capeak', 'CaD50', 'CaD90', 'TriCa', 'dCa']\n",
    "seed = 134556\n",
    "\n",
    "labels = ['IKrBlock_Label','ICaLIncrease_Label','Inject_Label']\n",
    "for label in labels:\n",
    "    \n",
    "    print('------------------------------------------')\n",
    "    print('Running ' + label)\n",
    "    ML_Task = ml.ML_Pipeline(filename,label,features,seed)\n",
    "    df = ML_Task.convert_df()\n",
    "    df = df.iloc[0:1000]\n",
    "    split_data = train_test_split(df[features], df[label], random_state = seed, test_size = 0.10)\n",
    "    LR = ML_Task.run_LR(split_data)\n",
    "    SVM = ML_Task.run_SVM(split_data)\n",
    "    KNN = ML_Task.run_KNN(split_data)\n",
    "    RF = ML_Task.run_RF(split_data)\n",
    "    NB = ML_Task.run_NB(split_data)\n",
    "    GB = ML_Task.run_GB(split_data)\n",
    "    XGB = ML_Task.run_XGB(split_data)\n",
    "    ANN = ML_Task.run_ANN(split_data)\n",
    "    \n",
    "    classifiers = [LR[1], SVM[1], NB, XGB[1], GB[1], RF[1], KNN[1], ANN[1]]\n",
    "    keys = ['LR','SVM','NB','XGB','GB','RF','KNN','ANN']\n",
    "    combined_ML_data = ML_Task.create_table(classifiers,keys)\n",
    "\n",
    "    result_table = combined_ML_data[0]\n",
    "    metrics = combined_ML_data[1]\n",
    "    rocs = combined_ML_data[2]\n",
    "    prob = combined_ML_data[3]\n",
    "    pred = combined_ML_data[4]\n",
    "    conf_matrix = combined_ML_data[5]\n",
    "\n",
    "    result_table\n",
    "    \n",
    "    ml.plotting(rocs,result_table)"
   ]
  },
  {
   "cell_type": "code",
   "execution_count": null,
   "metadata": {},
   "outputs": [],
   "source": []
  },
  {
   "cell_type": "code",
   "execution_count": null,
   "metadata": {},
   "outputs": [],
   "source": []
  },
  {
   "cell_type": "code",
   "execution_count": null,
   "metadata": {},
   "outputs": [],
   "source": []
  },
  {
   "cell_type": "code",
   "execution_count": null,
   "metadata": {},
   "outputs": [],
   "source": []
  }
 ],
 "metadata": {
  "kernelspec": {
   "display_name": "Python 3",
   "language": "python",
   "name": "python3"
  },
  "language_info": {
   "codemirror_mode": {
    "name": "ipython",
    "version": 3
   },
   "file_extension": ".py",
   "mimetype": "text/x-python",
   "name": "python",
   "nbconvert_exporter": "python",
   "pygments_lexer": "ipython3",
   "version": "3.7.4"
  }
 },
 "nbformat": 4,
 "nbformat_minor": 2
}
