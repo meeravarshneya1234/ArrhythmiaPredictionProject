{
 "cells": [
  {
   "cell_type": "markdown",
   "metadata": {},
   "source": [
    "#  <font color=blue>Figure 5C Machine Learning Code</font>\n",
    "\n",
    "## Machine Learning Tasks for ICaL Increase Trigger: \n",
    "### 1. Steady State Features + High Extracellular Ca2+ Features (High Cao)\n",
    "### 2. Steady State Features + Low Extracellular Ca2+ Features (Low Cao)\n",
    "### 3. Steady State Features + High Cao Features + Low Cao Features "
   ]
  },
  {
   "cell_type": "code",
   "execution_count": null,
   "metadata": {},
   "outputs": [],
   "source": [
    "from sklearn.model_selection import train_test_split, cross_val_score, cross_val_predict\n",
    "import sys\n",
    "sys.path.insert(1,'C:/ArrhythmiaPredictionProject/ml_functions/') # include path to ml_functions \n",
    "import ML_Pipeline as ml\n",
    "import warnings \n",
    "warnings.simplefilter('ignore')\n",
    "\n",
    "%reload_ext autoreload\n",
    "%load_ext autoreload\n",
    "%autoreload 2"
   ]
  },
  {
   "cell_type": "code",
   "execution_count": null,
   "metadata": {},
   "outputs": [],
   "source": [
    "label = 'IKrBlock_Label'\n",
    "seed = 134556"
   ]
  },
  {
   "cell_type": "code",
   "execution_count": null,
   "metadata": {},
   "outputs": [],
   "source": [
    "# Input Data \n",
    "filename = 'C:/ArrhythmiaPredictionProject/Manuscript_Data/Population_Feature_Outputs.csv' # file with data \n",
    "features = ['Vrest', 'Upstroke', 'Vpeak', 'APD20', 'APD40', 'APD50', 'APD90',\n",
    "       'TriAP','Vrest_HighCao','Upstroke_HighCao','Vpeak_HighCao','APD20_HighCao',\n",
    "        'APD40_HighCao','APD50_HighCao','APD90_HighCao','TriAP_HighCao']\n",
    "\n",
    "# Output Data \n",
    "flag_save = False\n",
    "output_name = 'SteadyState_APFeatures_HighCao_APFeatures'"
   ]
  },
  {
   "cell_type": "code",
   "execution_count": null,
   "metadata": {
    "scrolled": true
   },
   "outputs": [],
   "source": [
    "print('------------------------------------------')\n",
    "print('Running ' + output_name)\n",
    "print('Running ' + label)\n",
    "ML_Task = ml.ML_Pipeline(filename,label,features,seed)\n",
    "df = ML_Task.convert_df()\n",
    "ML_Task.train_test_data = train_test_split(df[features], df[label], random_state = seed, test_size = 0.10)        \n",
    "\n",
    "LR = ML_Task.run_LR()\n",
    "SVM = ML_Task.run_SVM()\n",
    "KNN = ML_Task.run_KNN()\n",
    "RF = ML_Task.run_RF()\n",
    "NB = ML_Task.run_NB()\n",
    "GB = ML_Task.run_GB()\n",
    "XGB = ML_Task.run_XGB()\n",
    "ANN = ML_Task.run_ANN()\n",
    "\n",
    "classifiers = [LR[1], SVM[1], NB, XGB[1], GB[1], RF[1], KNN[1], ANN[1]]\n",
    "keys = ['LR','SVM','NB','XGB','GB','RF','KNN','ANN']\n",
    "combined_ML_data = ML_Task.create_table(classifiers,keys)\n",
    "\n",
    "result_table = combined_ML_data[0]\n",
    "metrics = combined_ML_data[1]\n",
    "rocs = combined_ML_data[2]\n",
    "prob = combined_ML_data[3]\n",
    "pred = combined_ML_data[4]\n",
    "conf_matrix = combined_ML_data[5]\n",
    "\n",
    "result_table\n",
    "\n",
    "ML_Task.plotting(rocs,result_table)\n",
    "ML_Task.flag_save = flag_save\n",
    "save_filename = output_name + '_' + label\n",
    "ML_Task.save_data(save_filename,combined_ML_data,keys)"
   ]
  },
  {
   "cell_type": "code",
   "execution_count": null,
   "metadata": {},
   "outputs": [],
   "source": [
    "# Input Data \n",
    "filename = 'C:/ArrhythmiaPredictionProject/Manuscript_Data/Population_Feature_Outputs.csv' # file with data \n",
    "features = ['Vrest', 'Upstroke', 'Vpeak', 'APD20', 'APD40', 'APD50', 'APD90',\n",
    "       'TriAP','Vrest_LowCao','Upstroke_LowCao','Vpeak_LowCao','APD20_LowCao',\n",
    "        'APD40_LowCao','APD50_LowCao','APD90_LowCao','TriAP_LowCao']\n",
    "\n",
    "# Output Data \n",
    "flag_save = False\n",
    "output_name = 'SteadyState_APFeatures_LowCao_APFeatures'"
   ]
  },
  {
   "cell_type": "code",
   "execution_count": null,
   "metadata": {},
   "outputs": [],
   "source": [
    "print('------------------------------------------')\n",
    "print('Running ' + output_name)\n",
    "print('Running ' + label)\n",
    "ML_Task = ml.ML_Pipeline(filename,label,features,seed)\n",
    "df = ML_Task.convert_df()\n",
    "ML_Task.train_test_data = train_test_split(df[features], df[label], random_state = seed, test_size = 0.10)        \n",
    "\n",
    "LR = ML_Task.run_LR()\n",
    "SVM = ML_Task.run_SVM()\n",
    "KNN = ML_Task.run_KNN()\n",
    "RF = ML_Task.run_RF()\n",
    "NB = ML_Task.run_NB()\n",
    "GB = ML_Task.run_GB()\n",
    "XGB = ML_Task.run_XGB()\n",
    "ANN = ML_Task.run_ANN()\n",
    "\n",
    "classifiers = [LR[1], SVM[1], NB, XGB[1], GB[1], RF[1], KNN[1], ANN[1]]\n",
    "keys = ['LR','SVM','NB','XGB','GB','RF','KNN','ANN']\n",
    "combined_ML_data = ML_Task.create_table(classifiers,keys)\n",
    "\n",
    "result_table = combined_ML_data[0]\n",
    "metrics = combined_ML_data[1]\n",
    "rocs = combined_ML_data[2]\n",
    "prob = combined_ML_data[3]\n",
    "pred = combined_ML_data[4]\n",
    "conf_matrix = combined_ML_data[5]\n",
    "\n",
    "result_table\n",
    "\n",
    "ML_Task.plotting(rocs,result_table)\n",
    "ML_Task.flag_save = flag_save\n",
    "save_filename = output_name + '_' + label\n",
    "ML_Task.save_data(save_filename,combined_ML_data,keys)"
   ]
  },
  {
   "cell_type": "code",
   "execution_count": null,
   "metadata": {},
   "outputs": [],
   "source": [
    "# Input Data \n",
    "filename = 'C:/ArrhythmiaPredictionProject/Manuscript_Data/Population_Feature_Outputs.csv' # file with data \n",
    "features = ['Vrest', 'Upstroke', 'Vpeak', 'APD20', 'APD40', 'APD50', 'APD90',\n",
    "       'TriAP','Vrest_LowCao','Upstroke_LowCao','Vpeak_LowCao','APD20_LowCao',\n",
    "        'APD40_LowCao','APD50_LowCao','APD90_LowCao','TriAP_LowCao','Vrest_HighCao',\n",
    "        'Upstroke_HighCao','Vpeak_HighCao','APD20_HighCao',\n",
    "        'APD40_HighCao','APD50_HighCao','APD90_HighCao','TriAP_HighCao']\n",
    "\n",
    "# Output Data \n",
    "flag_save = False\n",
    "output_name = 'SteadyState_APFeatures_AllCao_APFeatures'"
   ]
  },
  {
   "cell_type": "code",
   "execution_count": null,
   "metadata": {},
   "outputs": [],
   "source": [
    "print('------------------------------------------')\n",
    "print('Running ' + output_name)\n",
    "print('Running ' + label)\n",
    "ML_Task = ml.ML_Pipeline(filename,label,features,seed)\n",
    "df = ML_Task.convert_df()\n",
    "ML_Task.train_test_data = train_test_split(df[features], df[label], random_state = seed, test_size = 0.10)        \n",
    "\n",
    "LR = ML_Task.run_LR()\n",
    "SVM = ML_Task.run_SVM()\n",
    "KNN = ML_Task.run_KNN()\n",
    "RF = ML_Task.run_RF()\n",
    "NB = ML_Task.run_NB()\n",
    "GB = ML_Task.run_GB()\n",
    "XGB = ML_Task.run_XGB()\n",
    "ANN = ML_Task.run_ANN()\n",
    "\n",
    "classifiers = [LR[1], SVM[1], NB, XGB[1], GB[1], RF[1], KNN[1], ANN[1]]\n",
    "keys = ['LR','SVM','NB','XGB','GB','RF','KNN','ANN']\n",
    "combined_ML_data = ML_Task.create_table(classifiers,keys)\n",
    "\n",
    "result_table = combined_ML_data[0]\n",
    "metrics = combined_ML_data[1]\n",
    "rocs = combined_ML_data[2]\n",
    "prob = combined_ML_data[3]\n",
    "pred = combined_ML_data[4]\n",
    "conf_matrix = combined_ML_data[5]\n",
    "\n",
    "result_table\n",
    "\n",
    "ML_Task.plotting(rocs,result_table)\n",
    "ML_Task.flag_save = flag_save\n",
    "save_filename = output_name + '_' + label\n",
    "ML_Task.save_data(save_filename,combined_ML_data,keys)"
   ]
  }
 ],
 "metadata": {
  "kernelspec": {
   "display_name": "Python 3",
   "language": "python",
   "name": "python3"
  },
  "language_info": {
   "codemirror_mode": {
    "name": "ipython",
    "version": 3
   },
   "file_extension": ".py",
   "mimetype": "text/x-python",
   "name": "python",
   "nbconvert_exporter": "python",
   "pygments_lexer": "ipython3",
   "version": "3.7.4"
  }
 },
 "nbformat": 4,
 "nbformat_minor": 2
}
