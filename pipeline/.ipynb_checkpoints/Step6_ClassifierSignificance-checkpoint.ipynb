{
 "cells": [
  {
   "cell_type": "markdown",
   "metadata": {},
   "source": [
    "# Compare Reciever Operator Curve Significance\n",
    "***"
   ]
  },
  {
   "cell_type": "code",
   "execution_count": 18,
   "metadata": {},
   "outputs": [],
   "source": [
    "import pandas as pd\n",
    "import numpy as np"
   ]
  },
  {
   "cell_type": "code",
   "execution_count": 5,
   "metadata": {
    "scrolled": true
   },
   "outputs": [
    {
     "data": {
      "text/html": [
       "<div>\n",
       "<style scoped>\n",
       "    .dataframe tbody tr th:only-of-type {\n",
       "        vertical-align: middle;\n",
       "    }\n",
       "\n",
       "    .dataframe tbody tr th {\n",
       "        vertical-align: top;\n",
       "    }\n",
       "\n",
       "    .dataframe thead th {\n",
       "        text-align: right;\n",
       "    }\n",
       "</style>\n",
       "<table border=\"1\" class=\"dataframe\">\n",
       "  <thead>\n",
       "    <tr style=\"text-align: right;\">\n",
       "      <th></th>\n",
       "      <th>Unnamed: 0</th>\n",
       "      <th>RF</th>\n",
       "      <th>KNN</th>\n",
       "      <th>LR</th>\n",
       "      <th>GB</th>\n",
       "      <th>SVM</th>\n",
       "      <th>ANN</th>\n",
       "      <th>Bayes</th>\n",
       "      <th>XGB</th>\n",
       "      <th>Label</th>\n",
       "    </tr>\n",
       "  </thead>\n",
       "  <tbody>\n",
       "    <tr>\n",
       "      <td>0</td>\n",
       "      <td>1814</td>\n",
       "      <td>0.281364</td>\n",
       "      <td>0.631579</td>\n",
       "      <td>0.205738</td>\n",
       "      <td>0.158330</td>\n",
       "      <td>0.222705</td>\n",
       "      <td>0.181278</td>\n",
       "      <td>0.740310</td>\n",
       "      <td>0.296826</td>\n",
       "      <td>0</td>\n",
       "    </tr>\n",
       "    <tr>\n",
       "      <td>1</td>\n",
       "      <td>2834</td>\n",
       "      <td>0.199155</td>\n",
       "      <td>0.368421</td>\n",
       "      <td>0.243043</td>\n",
       "      <td>0.000788</td>\n",
       "      <td>0.543008</td>\n",
       "      <td>0.328477</td>\n",
       "      <td>0.017146</td>\n",
       "      <td>0.177835</td>\n",
       "      <td>1</td>\n",
       "    </tr>\n",
       "    <tr>\n",
       "      <td>2</td>\n",
       "      <td>4367</td>\n",
       "      <td>0.628465</td>\n",
       "      <td>0.526316</td>\n",
       "      <td>0.430155</td>\n",
       "      <td>0.992701</td>\n",
       "      <td>0.617766</td>\n",
       "      <td>0.665786</td>\n",
       "      <td>0.300107</td>\n",
       "      <td>0.817411</td>\n",
       "      <td>0</td>\n",
       "    </tr>\n",
       "    <tr>\n",
       "      <td>3</td>\n",
       "      <td>1304</td>\n",
       "      <td>0.447951</td>\n",
       "      <td>0.526316</td>\n",
       "      <td>0.136947</td>\n",
       "      <td>0.987814</td>\n",
       "      <td>0.189322</td>\n",
       "      <td>0.137859</td>\n",
       "      <td>0.099787</td>\n",
       "      <td>0.316898</td>\n",
       "      <td>0</td>\n",
       "    </tr>\n",
       "    <tr>\n",
       "      <td>4</td>\n",
       "      <td>6848</td>\n",
       "      <td>0.733672</td>\n",
       "      <td>0.684211</td>\n",
       "      <td>0.897021</td>\n",
       "      <td>0.978697</td>\n",
       "      <td>0.946556</td>\n",
       "      <td>0.894946</td>\n",
       "      <td>0.662298</td>\n",
       "      <td>0.874317</td>\n",
       "      <td>1</td>\n",
       "    </tr>\n",
       "  </tbody>\n",
       "</table>\n",
       "</div>"
      ],
      "text/plain": [
       "   Unnamed: 0        RF       KNN        LR        GB       SVM       ANN  \\\n",
       "0        1814  0.281364  0.631579  0.205738  0.158330  0.222705  0.181278   \n",
       "1        2834  0.199155  0.368421  0.243043  0.000788  0.543008  0.328477   \n",
       "2        4367  0.628465  0.526316  0.430155  0.992701  0.617766  0.665786   \n",
       "3        1304  0.447951  0.526316  0.136947  0.987814  0.189322  0.137859   \n",
       "4        6848  0.733672  0.684211  0.897021  0.978697  0.946556  0.894946   \n",
       "\n",
       "      Bayes       XGB  Label  \n",
       "0  0.740310  0.296826      0  \n",
       "1  0.017146  0.177835      1  \n",
       "2  0.300107  0.817411      0  \n",
       "3  0.099787  0.316898      0  \n",
       "4  0.662298  0.874317      1  "
      ]
     },
     "execution_count": 5,
     "metadata": {},
     "output_type": "execute_result"
    }
   ],
   "source": [
    "filename = 'C:/ArrhythmiaPredictionProject/Manuscript_Data/SteadyState_14Features_IKrBlock.xlsx' # file with data \n",
    "df_prob = pd.read_excel(filename, sheet_name='Probability')\n",
    "df_prob.head()"
   ]
  },
  {
   "cell_type": "code",
   "execution_count": 36,
   "metadata": {},
   "outputs": [
    {
     "data": {
      "text/html": [
       "<div>\n",
       "<style scoped>\n",
       "    .dataframe tbody tr th:only-of-type {\n",
       "        vertical-align: middle;\n",
       "    }\n",
       "\n",
       "    .dataframe tbody tr th {\n",
       "        vertical-align: top;\n",
       "    }\n",
       "\n",
       "    .dataframe thead th {\n",
       "        text-align: right;\n",
       "    }\n",
       "</style>\n",
       "<table border=\"1\" class=\"dataframe\">\n",
       "  <thead>\n",
       "    <tr style=\"text-align: right;\">\n",
       "      <th></th>\n",
       "      <th>Classifier</th>\n",
       "      <th>Accuracy</th>\n",
       "      <th>Threshold</th>\n",
       "      <th>Sensitivity</th>\n",
       "      <th>Specificity</th>\n",
       "      <th>NPV</th>\n",
       "      <th>PPV</th>\n",
       "      <th>AUC</th>\n",
       "    </tr>\n",
       "  </thead>\n",
       "  <tbody>\n",
       "    <tr>\n",
       "      <td>0</td>\n",
       "      <td>RF</td>\n",
       "      <td>0.698945</td>\n",
       "      <td>0.452987</td>\n",
       "      <td>0.721992</td>\n",
       "      <td>0.679144</td>\n",
       "      <td>0.739806</td>\n",
       "      <td>0.659091</td>\n",
       "      <td>0.754392</td>\n",
       "    </tr>\n",
       "    <tr>\n",
       "      <td>1</td>\n",
       "      <td>KNN</td>\n",
       "      <td>0.607862</td>\n",
       "      <td>0.526316</td>\n",
       "      <td>0.518672</td>\n",
       "      <td>0.684492</td>\n",
       "      <td>0.623377</td>\n",
       "      <td>0.585480</td>\n",
       "      <td>0.641510</td>\n",
       "    </tr>\n",
       "    <tr>\n",
       "      <td>2</td>\n",
       "      <td>LR</td>\n",
       "      <td>0.712368</td>\n",
       "      <td>0.474311</td>\n",
       "      <td>0.695021</td>\n",
       "      <td>0.727273</td>\n",
       "      <td>0.735135</td>\n",
       "      <td>0.686475</td>\n",
       "      <td>0.779883</td>\n",
       "    </tr>\n",
       "    <tr>\n",
       "      <td>3</td>\n",
       "      <td>GB</td>\n",
       "      <td>0.670182</td>\n",
       "      <td>0.545119</td>\n",
       "      <td>0.618257</td>\n",
       "      <td>0.714795</td>\n",
       "      <td>0.685470</td>\n",
       "      <td>0.650655</td>\n",
       "      <td>0.713626</td>\n",
       "    </tr>\n",
       "    <tr>\n",
       "      <td>4</td>\n",
       "      <td>SVM</td>\n",
       "      <td>0.731544</td>\n",
       "      <td>0.470204</td>\n",
       "      <td>0.719917</td>\n",
       "      <td>0.741533</td>\n",
       "      <td>0.754991</td>\n",
       "      <td>0.705285</td>\n",
       "      <td>0.795793</td>\n",
       "    </tr>\n",
       "    <tr>\n",
       "      <td>5</td>\n",
       "      <td>ANN</td>\n",
       "      <td>0.735379</td>\n",
       "      <td>0.464309</td>\n",
       "      <td>0.761411</td>\n",
       "      <td>0.713012</td>\n",
       "      <td>0.776699</td>\n",
       "      <td>0.695076</td>\n",
       "      <td>0.793060</td>\n",
       "    </tr>\n",
       "    <tr>\n",
       "      <td>6</td>\n",
       "      <td>Bayes</td>\n",
       "      <td>0.596357</td>\n",
       "      <td>0.490571</td>\n",
       "      <td>0.489627</td>\n",
       "      <td>0.688057</td>\n",
       "      <td>0.610759</td>\n",
       "      <td>0.574209</td>\n",
       "      <td>0.615805</td>\n",
       "    </tr>\n",
       "    <tr>\n",
       "      <td>7</td>\n",
       "      <td>XGB</td>\n",
       "      <td>0.707574</td>\n",
       "      <td>0.438855</td>\n",
       "      <td>0.730290</td>\n",
       "      <td>0.688057</td>\n",
       "      <td>0.748062</td>\n",
       "      <td>0.667932</td>\n",
       "      <td>0.756344</td>\n",
       "    </tr>\n",
       "  </tbody>\n",
       "</table>\n",
       "</div>"
      ],
      "text/plain": [
       "  Classifier  Accuracy  Threshold  Sensitivity  Specificity       NPV  \\\n",
       "0         RF  0.698945   0.452987     0.721992     0.679144  0.739806   \n",
       "1        KNN  0.607862   0.526316     0.518672     0.684492  0.623377   \n",
       "2         LR  0.712368   0.474311     0.695021     0.727273  0.735135   \n",
       "3         GB  0.670182   0.545119     0.618257     0.714795  0.685470   \n",
       "4        SVM  0.731544   0.470204     0.719917     0.741533  0.754991   \n",
       "5        ANN  0.735379   0.464309     0.761411     0.713012  0.776699   \n",
       "6      Bayes  0.596357   0.490571     0.489627     0.688057  0.610759   \n",
       "7        XGB  0.707574   0.438855     0.730290     0.688057  0.748062   \n",
       "\n",
       "        PPV       AUC  \n",
       "0  0.659091  0.754392  \n",
       "1  0.585480  0.641510  \n",
       "2  0.686475  0.779883  \n",
       "3  0.650655  0.713626  \n",
       "4  0.705285  0.795793  \n",
       "5  0.695076  0.793060  \n",
       "6  0.574209  0.615805  \n",
       "7  0.667932  0.756344  "
      ]
     },
     "execution_count": 36,
     "metadata": {},
     "output_type": "execute_result"
    }
   ],
   "source": [
    "filename = 'C:/ArrhythmiaPredictionProject/Manuscript_Data/SteadyState_14Features_IKrBlock.xlsx' # file with data \n",
    "df = pd.read_excel(filename, sheet_name='Results')\n",
    "df = df.rename(columns={'Unnamed: 0': \"Classifier\"})\n",
    "df"
   ]
  },
  {
   "cell_type": "code",
   "execution_count": 6,
   "metadata": {},
   "outputs": [],
   "source": [
    "import rpy2\n",
    "#import rpy2.robjects.packages as rpackages\n",
    "#from rpy2.robjects.vectors import StrVector\n",
    "from rpy2.robjects.packages import importr\n",
    "from rpy2.robjects import pandas2ri\n",
    "pandas2ri.activate()"
   ]
  },
  {
   "cell_type": "markdown",
   "metadata": {},
   "source": [
    "### Utilize R package pROC to analyze and compare ROC curves"
   ]
  },
  {
   "cell_type": "markdown",
   "metadata": {},
   "source": [
    "<div class=\"alert alert-block alert-info\">\n",
    "<b>Note:</b> Modify this section based on where you saved the pROC package, if importing directly becomes an issue.\n",
    "</div>"
   ]
  },
  {
   "cell_type": "code",
   "execution_count": 9,
   "metadata": {},
   "outputs": [],
   "source": [
    "d = {'print.me': 'print_dot_me', 'print_me': 'print_uscore_me'}\n",
    "try:\n",
    "    proc = importr('pROC', robject_translations = d, lib_loc = \"C:/Users/MeeraVarshneya/Documents/R/win-library/3.6\")\n",
    "except:\n",
    "    proc = importr('pROC', robject_translations = d, lib_loc = \"C:/Program Files/R/R-3.6.1/library\")"
   ]
  },
  {
   "cell_type": "code",
   "execution_count": 10,
   "metadata": {},
   "outputs": [],
   "source": [
    "l = df_prob.Label\n",
    "rf = df_prob.RF\n",
    "knn = df_prob.KNN\n",
    "lr = df_prob.LR\n",
    "gb = df_prob.GB\n",
    "svm = df_prob.SVM\n",
    "ann = df_prob.ANN\n",
    "bayes = df_prob.Bayes\n",
    "xgb = df_prob.XGB"
   ]
  },
  {
   "cell_type": "code",
   "execution_count": 37,
   "metadata": {},
   "outputs": [],
   "source": [
    "roc_rf = proc.roc(l, rf)\n",
    "roc_knn = proc.roc(l, knn)\n",
    "roc_lr = proc.roc(l, lr)\n",
    "roc_gb = proc.roc(l, gb)\n",
    "roc_svm = proc.roc(l, svm)\n",
    "roc_ann = proc.roc(l, ann)\n",
    "roc_bayes = proc.roc(l, bayes)\n",
    "roc_xgb = proc.roc(l, xgb)"
   ]
  },
  {
   "cell_type": "code",
   "execution_count": 40,
   "metadata": {},
   "outputs": [
    {
     "name": "stdout",
     "output_type": "stream",
     "text": [
      "Best Classifier: SVM\n",
      "Test each significance of each algorithm against SVM\n"
     ]
    }
   ],
   "source": [
    "dfAUC = df.AUC \n",
    "max_AUC = dfAUC.idxmax(axis=0, skipna=True)\n",
    "print('Best Classifier: ' + df['Classifier'].iloc[max_AUC])\n",
    "print('Test each significance of each algorithm against ' + df['Classifier'].iloc[max_AUC])"
   ]
  },
  {
   "cell_type": "code",
   "execution_count": 15,
   "metadata": {},
   "outputs": [],
   "source": [
    "def get_ci(roc_object):\n",
    "    x = proc.ci_auc(roc_object)\n",
    "    lower = x[0]\n",
    "    upper = x[-1]\n",
    "    return ['{:.2f}'.format(lower), '{:.2f}'.format(upper)]\n",
    "\n",
    "def get_pvalue(roc1, roc2):\n",
    "    y = proc.roc_test(roc1, roc2, alternative = 'two.sided')\n",
    "    p = np.array(y.rx2('p.value'))\n",
    "    return p"
   ]
  },
  {
   "cell_type": "markdown",
   "metadata": {},
   "source": [
    "<div class=\"alert alert-block alert-info\">\n",
    "<b>Note:</b> Be sure to modify this based on the classifier that performed the best. In this example, SVM was the best so we compared each algorithm to that. \n",
    "</div>"
   ]
  },
  {
   "cell_type": "code",
   "execution_count": 19,
   "metadata": {},
   "outputs": [
    {
     "name": "stdout",
     "output_type": "stream",
     "text": [
      "SVM vs RF: [4.18783873e-05]\n",
      "SVM vs KNN: [5.48593702e-19]\n",
      "SVM vs LR: [0.02417485]\n",
      "SVM vs GB: [6.31060055e-11]\n",
      "SVM vs ANN: [0.5376044]\n",
      "SVM vs Bayes: [4.07548582e-21]\n",
      "SVM vs XGB: [2.80428985e-05]\n"
     ]
    }
   ],
   "source": [
    "p = get_pvalue(roc_svm, roc_rf)\n",
    "print('SVM vs RF:', p)\n",
    "p = get_pvalue(roc_svm, roc_knn)\n",
    "print('SVM vs KNN:', p)\n",
    "p = get_pvalue(roc_svm, roc_lr)\n",
    "print('SVM vs LR:', p)\n",
    "p = get_pvalue(roc_svm, roc_gb)\n",
    "print('SVM vs GB:', p)\n",
    "p = get_pvalue(roc_svm, roc_ann)\n",
    "print('SVM vs ANN:', p)\n",
    "p = get_pvalue(roc_svm, roc_bayes)\n",
    "print('SVM vs Bayes:', p)\n",
    "p = get_pvalue(roc_svm, roc_xgb)\n",
    "print('SVM vs XGB:', p)"
   ]
  },
  {
   "cell_type": "markdown",
   "metadata": {},
   "source": [
    "### Apply the McNemar test to analyze and compare sensitivty and specificity"
   ]
  },
  {
   "cell_type": "code",
   "execution_count": 41,
   "metadata": {},
   "outputs": [],
   "source": [
    "from statsmodels.stats.contingency_tables import mcnemar\n",
    "def get_p(df, model1, model2):\n",
    "    table = pd.crosstab(df[model1], df[model2])\n",
    "    result = mcnemar(table, exact=True)\n",
    "    print('p-value=%.5f'%result.pvalue)\n",
    "    return result.pvalue"
   ]
  },
  {
   "cell_type": "code",
   "execution_count": 63,
   "metadata": {},
   "outputs": [],
   "source": [
    "keys = ['RF', 'KNN' ,'LR' ,'GB' ,'SVM', 'ANN' ,'Bayes', 'XGB']\n",
    "cutoffs = df['Threshold']\n",
    "dfprob = pd.DataFrame()\n",
    "for idx, key in enumerate(keys):\n",
    "    dfprob[key] = df_prob[key]\n",
    "    dfprob[key+\"_pred\"] = df_prob[key]>cutoffs[idx]\n",
    "dfprob['Label'] = df_prob['Label']"
   ]
  },
  {
   "cell_type": "code",
   "execution_count": 65,
   "metadata": {},
   "outputs": [
    {
     "data": {
      "text/html": [
       "<div>\n",
       "<style scoped>\n",
       "    .dataframe tbody tr th:only-of-type {\n",
       "        vertical-align: middle;\n",
       "    }\n",
       "\n",
       "    .dataframe tbody tr th {\n",
       "        vertical-align: top;\n",
       "    }\n",
       "\n",
       "    .dataframe thead th {\n",
       "        text-align: right;\n",
       "    }\n",
       "</style>\n",
       "<table border=\"1\" class=\"dataframe\">\n",
       "  <thead>\n",
       "    <tr style=\"text-align: right;\">\n",
       "      <th></th>\n",
       "      <th>RF</th>\n",
       "      <th>RF_pred</th>\n",
       "      <th>KNN</th>\n",
       "      <th>KNN_pred</th>\n",
       "      <th>LR</th>\n",
       "      <th>LR_pred</th>\n",
       "      <th>GB</th>\n",
       "      <th>GB_pred</th>\n",
       "      <th>SVM</th>\n",
       "      <th>SVM_pred</th>\n",
       "      <th>ANN</th>\n",
       "      <th>ANN_pred</th>\n",
       "      <th>Bayes</th>\n",
       "      <th>Bayes_pred</th>\n",
       "      <th>XGB</th>\n",
       "      <th>XGB_pred</th>\n",
       "      <th>Label</th>\n",
       "    </tr>\n",
       "  </thead>\n",
       "  <tbody>\n",
       "    <tr>\n",
       "      <td>0</td>\n",
       "      <td>0.281364</td>\n",
       "      <td>False</td>\n",
       "      <td>0.631579</td>\n",
       "      <td>True</td>\n",
       "      <td>0.205738</td>\n",
       "      <td>False</td>\n",
       "      <td>0.158330</td>\n",
       "      <td>False</td>\n",
       "      <td>0.222705</td>\n",
       "      <td>False</td>\n",
       "      <td>0.181278</td>\n",
       "      <td>False</td>\n",
       "      <td>0.740310</td>\n",
       "      <td>True</td>\n",
       "      <td>0.296826</td>\n",
       "      <td>False</td>\n",
       "      <td>0</td>\n",
       "    </tr>\n",
       "    <tr>\n",
       "      <td>1</td>\n",
       "      <td>0.199155</td>\n",
       "      <td>False</td>\n",
       "      <td>0.368421</td>\n",
       "      <td>False</td>\n",
       "      <td>0.243043</td>\n",
       "      <td>False</td>\n",
       "      <td>0.000788</td>\n",
       "      <td>False</td>\n",
       "      <td>0.543008</td>\n",
       "      <td>True</td>\n",
       "      <td>0.328477</td>\n",
       "      <td>False</td>\n",
       "      <td>0.017146</td>\n",
       "      <td>False</td>\n",
       "      <td>0.177835</td>\n",
       "      <td>False</td>\n",
       "      <td>1</td>\n",
       "    </tr>\n",
       "    <tr>\n",
       "      <td>2</td>\n",
       "      <td>0.628465</td>\n",
       "      <td>True</td>\n",
       "      <td>0.526316</td>\n",
       "      <td>False</td>\n",
       "      <td>0.430155</td>\n",
       "      <td>False</td>\n",
       "      <td>0.992701</td>\n",
       "      <td>True</td>\n",
       "      <td>0.617766</td>\n",
       "      <td>True</td>\n",
       "      <td>0.665786</td>\n",
       "      <td>True</td>\n",
       "      <td>0.300107</td>\n",
       "      <td>False</td>\n",
       "      <td>0.817411</td>\n",
       "      <td>True</td>\n",
       "      <td>0</td>\n",
       "    </tr>\n",
       "    <tr>\n",
       "      <td>3</td>\n",
       "      <td>0.447951</td>\n",
       "      <td>False</td>\n",
       "      <td>0.526316</td>\n",
       "      <td>False</td>\n",
       "      <td>0.136947</td>\n",
       "      <td>False</td>\n",
       "      <td>0.987814</td>\n",
       "      <td>True</td>\n",
       "      <td>0.189322</td>\n",
       "      <td>False</td>\n",
       "      <td>0.137859</td>\n",
       "      <td>False</td>\n",
       "      <td>0.099787</td>\n",
       "      <td>False</td>\n",
       "      <td>0.316898</td>\n",
       "      <td>False</td>\n",
       "      <td>0</td>\n",
       "    </tr>\n",
       "    <tr>\n",
       "      <td>4</td>\n",
       "      <td>0.733672</td>\n",
       "      <td>True</td>\n",
       "      <td>0.684211</td>\n",
       "      <td>True</td>\n",
       "      <td>0.897021</td>\n",
       "      <td>True</td>\n",
       "      <td>0.978697</td>\n",
       "      <td>True</td>\n",
       "      <td>0.946556</td>\n",
       "      <td>True</td>\n",
       "      <td>0.894946</td>\n",
       "      <td>True</td>\n",
       "      <td>0.662298</td>\n",
       "      <td>True</td>\n",
       "      <td>0.874317</td>\n",
       "      <td>True</td>\n",
       "      <td>1</td>\n",
       "    </tr>\n",
       "  </tbody>\n",
       "</table>\n",
       "</div>"
      ],
      "text/plain": [
       "         RF  RF_pred       KNN  KNN_pred        LR  LR_pred        GB  \\\n",
       "0  0.281364    False  0.631579      True  0.205738    False  0.158330   \n",
       "1  0.199155    False  0.368421     False  0.243043    False  0.000788   \n",
       "2  0.628465     True  0.526316     False  0.430155    False  0.992701   \n",
       "3  0.447951    False  0.526316     False  0.136947    False  0.987814   \n",
       "4  0.733672     True  0.684211      True  0.897021     True  0.978697   \n",
       "\n",
       "   GB_pred       SVM  SVM_pred       ANN  ANN_pred     Bayes  Bayes_pred  \\\n",
       "0    False  0.222705     False  0.181278     False  0.740310        True   \n",
       "1    False  0.543008      True  0.328477     False  0.017146       False   \n",
       "2     True  0.617766      True  0.665786      True  0.300107       False   \n",
       "3     True  0.189322     False  0.137859     False  0.099787       False   \n",
       "4     True  0.946556      True  0.894946      True  0.662298        True   \n",
       "\n",
       "        XGB  XGB_pred  Label  \n",
       "0  0.296826     False      0  \n",
       "1  0.177835     False      1  \n",
       "2  0.817411      True      0  \n",
       "3  0.316898     False      0  \n",
       "4  0.874317      True      1  "
      ]
     },
     "execution_count": 65,
     "metadata": {},
     "output_type": "execute_result"
    }
   ],
   "source": [
    "dfprob.head()"
   ]
  },
  {
   "cell_type": "code",
   "execution_count": 66,
   "metadata": {},
   "outputs": [],
   "source": [
    "dfsen = dfprob[dfprob['Label']==1] ## True positives\n",
    "dfspe = dfprob[dfprob['Label']==0] ## True negatives"
   ]
  },
  {
   "cell_type": "code",
   "execution_count": 67,
   "metadata": {},
   "outputs": [
    {
     "name": "stdout",
     "output_type": "stream",
     "text": [
      "p-value=1.00000\n",
      "p-value=0.16188\n",
      "p-value=0.00082\n",
      "p-value=0.67181\n"
     ]
    },
    {
     "data": {
      "text/plain": [
       "0.6718086491746091"
      ]
     },
     "execution_count": 67,
     "metadata": {},
     "output_type": "execute_result"
    }
   ],
   "source": [
    "get_p(dfsen, 'SVM_pred', 'RF_pred') # sensitivity shows significant difference \n",
    "get_p(dfsen, 'SVM_pred', 'LR_pred') # sensitivity shows significant difference \n",
    "get_p(dfsen, 'SVM_pred', 'ANN_pred') # sensitivity shows significant difference \n",
    "get_p(dfsen, 'SVM_pred', 'XGB_pred') # sensitivity shows significant difference "
   ]
  },
  {
   "cell_type": "code",
   "execution_count": 68,
   "metadata": {},
   "outputs": [
    {
     "name": "stdout",
     "output_type": "stream",
     "text": [
      "p-value=0.00049\n",
      "p-value=0.38905\n",
      "p-value=0.01385\n",
      "p-value=0.00231\n"
     ]
    },
    {
     "data": {
      "text/plain": [
       "0.0023146015214254917"
      ]
     },
     "execution_count": 68,
     "metadata": {},
     "output_type": "execute_result"
    }
   ],
   "source": [
    "get_p(dfspe, 'SVM_pred', 'RF_pred')# specificity shows significant difference \n",
    "get_p(dfspe, 'SVM_pred', 'LR_pred') # sensitivity shows significant difference \n",
    "get_p(dfspe, 'SVM_pred', 'ANN_pred') # sensitivity shows significant difference \n",
    "get_p(dfspe, 'SVM_pred', 'XGB_pred') # sensitivity shows significant difference "
   ]
  },
  {
   "cell_type": "code",
   "execution_count": null,
   "metadata": {},
   "outputs": [],
   "source": []
  }
 ],
 "metadata": {
  "kernelspec": {
   "display_name": "Python 3",
   "language": "python",
   "name": "python3"
  },
  "language_info": {
   "codemirror_mode": {
    "name": "ipython",
    "version": 3
   },
   "file_extension": ".py",
   "mimetype": "text/x-python",
   "name": "python",
   "nbconvert_exporter": "python",
   "pygments_lexer": "ipython3",
   "version": "3.7.4"
  }
 },
 "nbformat": 4,
 "nbformat_minor": 2
}
