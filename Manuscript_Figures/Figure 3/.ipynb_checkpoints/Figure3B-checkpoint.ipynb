{
 "cells": [
  {
   "cell_type": "markdown",
   "metadata": {},
   "source": [
    "#  <font color=black>Figure 3B Machine Learning Code</font>\n",
    "***\n",
    "### Machine Learning Tasks for I<sub>Kr</sub> Block Trigger: \n",
    "1. Steady State AP Features\n",
    "2. Steady State CaT Features\n",
    "3. Steady State 14 Features\n",
    "\n",
    "**Refer to <font color=blue>pipeline/Step5_RunMLAlgs</font> for documentation and details on pipeline flow.**"
   ]
  },
  {
   "cell_type": "code",
   "execution_count": 1,
   "metadata": {},
   "outputs": [
    {
     "ename": "ModuleNotFoundError",
     "evalue": "No module named 'ML_Pipeline'",
     "output_type": "error",
     "traceback": [
      "\u001b[1;31m---------------------------------------------------------------------------\u001b[0m",
      "\u001b[1;31mModuleNotFoundError\u001b[0m                       Traceback (most recent call last)",
      "\u001b[1;32m<ipython-input-1-34dbb4f201c8>\u001b[0m in \u001b[0;36m<module>\u001b[1;34m\u001b[0m\n\u001b[0;32m      2\u001b[0m \u001b[1;32mimport\u001b[0m \u001b[0msys\u001b[0m\u001b[1;33m\u001b[0m\u001b[1;33m\u001b[0m\u001b[0m\n\u001b[0;32m      3\u001b[0m \u001b[0msys\u001b[0m\u001b[1;33m.\u001b[0m\u001b[0mpath\u001b[0m\u001b[1;33m.\u001b[0m\u001b[0minsert\u001b[0m\u001b[1;33m(\u001b[0m\u001b[1;36m1\u001b[0m\u001b[1;33m,\u001b[0m\u001b[1;34m'C:/ArrhythmiaPredictionProject/ml_functions/'\u001b[0m\u001b[1;33m)\u001b[0m \u001b[1;31m# include path to ml_functions\u001b[0m\u001b[1;33m\u001b[0m\u001b[1;33m\u001b[0m\u001b[0m\n\u001b[1;32m----> 4\u001b[1;33m \u001b[1;32mimport\u001b[0m \u001b[0mML_Pipeline\u001b[0m \u001b[1;32mas\u001b[0m \u001b[0mml\u001b[0m\u001b[1;33m\u001b[0m\u001b[1;33m\u001b[0m\u001b[0m\n\u001b[0m\u001b[0;32m      5\u001b[0m \u001b[1;32mimport\u001b[0m \u001b[0mwarnings\u001b[0m\u001b[1;33m\u001b[0m\u001b[1;33m\u001b[0m\u001b[0m\n\u001b[0;32m      6\u001b[0m \u001b[0mwarnings\u001b[0m\u001b[1;33m.\u001b[0m\u001b[0msimplefilter\u001b[0m\u001b[1;33m(\u001b[0m\u001b[1;34m'ignore'\u001b[0m\u001b[1;33m)\u001b[0m\u001b[1;33m\u001b[0m\u001b[1;33m\u001b[0m\u001b[0m\n",
      "\u001b[1;31mModuleNotFoundError\u001b[0m: No module named 'ML_Pipeline'"
     ]
    }
   ],
   "source": [
    "from sklearn.model_selection import train_test_split, cross_val_score, cross_val_predict\n",
    "import sys\n",
    "sys.path.insert(1,'C:/ArrhythmiaPredictionProject/ml_functions/') # include path to ml_functions \n",
    "import ML_Pipeline as ml\n",
    "import warnings \n",
    "warnings.simplefilter('ignore')\n",
    "\n",
    "%reload_ext autoreload\n",
    "%load_ext autoreload\n",
    "%autoreload 2"
   ]
  },
  {
   "cell_type": "code",
   "execution_count": null,
   "metadata": {},
   "outputs": [],
   "source": [
    "filename = 'C:/ArrhythmiaPredictionProject/Manuscript_Data/Population_Feature_Outputs.csv' # file with data \n",
    "label = 'IKrBlock_Label'\n",
    "seed = 134556\n",
    "flag_save = False"
   ]
  },
  {
   "cell_type": "markdown",
   "metadata": {},
   "source": [
    "### 1. Steady State AP Features ML Analysis"
   ]
  },
  {
   "cell_type": "code",
   "execution_count": null,
   "metadata": {},
   "outputs": [],
   "source": [
    "# Input Data \n",
    "features = ['Vrest', 'Upstroke', 'Vpeak', 'APD20', 'APD40', 'APD50', 'APD90',\n",
    "       'TriAP']\n",
    "\n",
    "# Output Data \n",
    "output_name = 'SteadyState_APFeatures'"
   ]
  },
  {
   "cell_type": "code",
   "execution_count": null,
   "metadata": {
    "scrolled": true
   },
   "outputs": [],
   "source": [
    "print('------------------------------------------')\n",
    "print('Running ' + output_name)\n",
    "print('Running ' + label)\n",
    "ML_Task = ml.ML_Pipeline(filename,label,features,seed)\n",
    "df = ML_Task.convert_df()\n",
    "ML_Task.train_test_data = train_test_split(df[features], df[label], random_state = seed, test_size = 0.10)        \n",
    "\n",
    "LR = ML_Task.run_LR()\n",
    "SVM = ML_Task.run_SVM()\n",
    "KNN = ML_Task.run_KNN()\n",
    "RF = ML_Task.run_RF()\n",
    "NB = ML_Task.run_NB()\n",
    "GB = ML_Task.run_GB()\n",
    "XGB = ML_Task.run_XGB()\n",
    "ANN = ML_Task.run_ANN()\n",
    "\n",
    "classifiers = [LR[1], SVM[1], NB, XGB[1], GB[1], RF[1], KNN[1], ANN[1]]\n",
    "keys = ['LR','SVM','NB','XGB','GB','RF','KNN','ANN']\n",
    "combined_ML_data = ML_Task.create_table(classifiers,keys)\n",
    "\n",
    "result_table = combined_ML_data[0]\n",
    "metrics = combined_ML_data[1]\n",
    "rocs = combined_ML_data[2]\n",
    "prob = combined_ML_data[3]\n",
    "pred = combined_ML_data[4]\n",
    "conf_matrix = combined_ML_data[5]\n",
    "\n",
    "result_table\n",
    "\n",
    "ML_Task.plotting(rocs,result_table)\n",
    "ML_Task.flag_save = flag_save\n",
    "save_filename = output_name + '_' + label\n",
    "ML_Task.save_data(save_filename,combined_ML_data,keys)"
   ]
  },
  {
   "cell_type": "markdown",
   "metadata": {},
   "source": [
    "### 2. Steady State CaT Features ML Analysis"
   ]
  },
  {
   "cell_type": "code",
   "execution_count": null,
   "metadata": {},
   "outputs": [],
   "source": [
    "# Input Data \n",
    "features = ['DCai', 'Capeak', 'CaD50', 'CaD90', 'TriCa', 'dCa']\n",
    "\n",
    "# Output Data \n",
    "output_name = 'SteadyState_CaTFeatures'"
   ]
  },
  {
   "cell_type": "code",
   "execution_count": null,
   "metadata": {
    "scrolled": true
   },
   "outputs": [],
   "source": [
    "print('------------------------------------------')\n",
    "print('Running ' + output_name)\n",
    "print('Running ' + label)\n",
    "ML_Task = ml.ML_Pipeline(filename,label,features,seed)\n",
    "df = ML_Task.convert_df()\n",
    "ML_Task.train_test_data = train_test_split(df[features], df[label], random_state = seed, test_size = 0.10)        \n",
    "\n",
    "LR = ML_Task.run_LR()\n",
    "SVM = ML_Task.run_SVM()\n",
    "KNN = ML_Task.run_KNN()\n",
    "RF = ML_Task.run_RF()\n",
    "NB = ML_Task.run_NB()\n",
    "GB = ML_Task.run_GB()\n",
    "XGB = ML_Task.run_XGB()\n",
    "ANN = ML_Task.run_ANN()\n",
    "\n",
    "classifiers = [LR[1], SVM[1], NB, XGB[1], GB[1], RF[1], KNN[1], ANN[1]]\n",
    "keys = ['LR','SVM','NB','XGB','GB','RF','KNN','ANN']\n",
    "combined_ML_data = ML_Task.create_table(classifiers,keys)\n",
    "\n",
    "result_table = combined_ML_data[0]\n",
    "metrics = combined_ML_data[1]\n",
    "rocs = combined_ML_data[2]\n",
    "prob = combined_ML_data[3]\n",
    "pred = combined_ML_data[4]\n",
    "conf_matrix = combined_ML_data[5]\n",
    "\n",
    "result_table\n",
    "\n",
    "ML_Task.plotting(rocs,result_table)\n",
    "ML_Task.flag_save = flag_save\n",
    "save_filename = output_name + '_' + label\n",
    "ML_Task.save_data(save_filename,combined_ML_data,keys)"
   ]
  },
  {
   "cell_type": "markdown",
   "metadata": {},
   "source": [
    "### 3. Steady State all 14 Features ML Analysis"
   ]
  },
  {
   "cell_type": "code",
   "execution_count": null,
   "metadata": {},
   "outputs": [],
   "source": [
    "# Input Data \n",
    "features = ['Vrest', 'Upstroke', 'Vpeak', 'APD20', 'APD40', 'APD50', 'APD90',\n",
    "       'TriAP','DCai', 'Capeak', 'CaD50', 'CaD90', 'TriCa', 'dCa']\n",
    "\n",
    "# Output Data \n",
    "output_name = 'SteadyState_14Features'"
   ]
  },
  {
   "cell_type": "code",
   "execution_count": null,
   "metadata": {
    "scrolled": true
   },
   "outputs": [],
   "source": [
    "print('------------------------------------------')\n",
    "print('Running ' + output_name)\n",
    "print('Running ' + label)\n",
    "ML_Task = ml.ML_Pipeline(filename,label,features,seed)\n",
    "df = ML_Task.convert_df()\n",
    "ML_Task.train_test_data = train_test_split(df[features], df[label], random_state = seed, test_size = 0.10)        \n",
    "\n",
    "LR = ML_Task.run_LR()\n",
    "SVM = ML_Task.run_SVM()\n",
    "KNN = ML_Task.run_KNN()\n",
    "RF = ML_Task.run_RF()\n",
    "NB = ML_Task.run_NB()\n",
    "GB = ML_Task.run_GB()\n",
    "XGB = ML_Task.run_XGB()\n",
    "ANN = ML_Task.run_ANN()\n",
    "\n",
    "classifiers = [LR[1], SVM[1], NB, XGB[1], GB[1], RF[1], KNN[1], ANN[1]]\n",
    "keys = ['LR','SVM','NB','XGB','GB','RF','KNN','ANN']\n",
    "combined_ML_data = ML_Task.create_table(classifiers,keys)\n",
    "\n",
    "result_table = combined_ML_data[0]\n",
    "metrics = combined_ML_data[1]\n",
    "rocs = combined_ML_data[2]\n",
    "prob = combined_ML_data[3]\n",
    "pred = combined_ML_data[4]\n",
    "conf_matrix = combined_ML_data[5]\n",
    "\n",
    "result_table\n",
    "\n",
    "ML_Task.plotting(rocs,result_table)\n",
    "ML_Task.flag_save = flag_save\n",
    "save_filename = output_name + '_' + label\n",
    "ML_Task.save_data(save_filename,combined_ML_data,keys)"
   ]
  }
 ],
 "metadata": {
  "kernelspec": {
   "display_name": "Python 3",
   "language": "python",
   "name": "python3"
  },
  "language_info": {
   "codemirror_mode": {
    "name": "ipython",
    "version": 3
   },
   "file_extension": ".py",
   "mimetype": "text/x-python",
   "name": "python",
   "nbconvert_exporter": "python",
   "pygments_lexer": "ipython3",
   "version": "3.7.4"
  }
 },
 "nbformat": 4,
 "nbformat_minor": 2
}
